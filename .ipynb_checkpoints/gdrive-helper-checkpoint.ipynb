{
 "cells": [
  {
   "cell_type": "code",
   "execution_count": 1,
   "id": "cbfb897a-70c7-453d-9719-5a610036c132",
   "metadata": {},
   "outputs": [],
   "source": [
    "import os.path\n",
    "import google.auth\n",
    "\n",
    "from google.oauth2.credentials import Credentials\n",
    "from googleapiclient.discovery import build\n",
    "from googleapiclient.errors import HttpError\n",
    "from googleapiclient.http import MediaFileUpload\n",
    "from google.oauth2 import service_account"
   ]
  },
  {
   "cell_type": "code",
   "execution_count": 2,
   "id": "148dc47a-fbfe-4ec8-8cbf-1be763340848",
   "metadata": {},
   "outputs": [],
   "source": [
    "SCOPES = [\"https://www.googleapis.com/auth/drive\"]\n",
    "credential_path = '../Supplementary_data/DriveCredentials/credentials.json'"
   ]
  },
  {
   "cell_type": "code",
   "execution_count": 3,
   "id": "5ce6e154-0b78-4397-b012-4e5fe22ccf6c",
   "metadata": {},
   "outputs": [],
   "source": [
    "def create_token():\n",
    "    ''''\n",
    "        credential: provide the json creditials you would get from google service.\n",
    "    '''\n",
    "    creds = None\n",
    "    creds = service_account.Credentials.from_service_account_file(credential_path, scopes=SCOPES)\n",
    "    return creds"
   ]
  },
  {
   "cell_type": "code",
   "execution_count": 4,
   "id": "dd85c111-7727-45b9-80cb-a4a9d4813f6e",
   "metadata": {},
   "outputs": [],
   "source": [
    "def list_gdrive():\n",
    "    '''\n",
    "    List the 10 recent files from the google drive\n",
    "    '''\n",
    "    creds = create_token()\n",
    "    try:\n",
    "        service = build(\"drive\", \"v3\", credentials=creds)\n",
    "      \n",
    "        results = (service.files().list(pageSize=20, fields=\"nextPageToken, files(id, name)\").execute())\n",
    "        items = results.get(\"files\", [])\n",
    "\n",
    "        if not items:\n",
    "            print(\"No files found.\")\n",
    "            return\n",
    "        print(\"Files:\")\n",
    "        for item in items:\n",
    "            print(f\"{item['name']} ({item['id']})\")\n",
    "    except HttpError as error:\n",
    "        print(f\"An error occurred: {error}\")"
   ]
  },
  {
   "cell_type": "code",
   "execution_count": 5,
   "id": "591cfa3d-4f40-4c7d-bf24-985ce71c7525",
   "metadata": {},
   "outputs": [],
   "source": [
    "def upload_to_gdrive(file_path=None, folder_id=None):\n",
    "    '''\n",
    "        Uploading files to google drive\n",
    "    '''\n",
    "    creds = create_token()\n",
    "    try:\n",
    "        # create drive api client\n",
    "        service = build(\"drive\", \"v3\", credentials=creds)\n",
    "        folder_path = '../Supplementary_data/DriveCredentials/{}'.format(folder_id)\n",
    "        #read the first line of the file\n",
    "        # folder_id = open(folder_path, \"r\").readline()\n",
    "\n",
    "        file_metadata = {\"name\": file_path, \"parents\": [folder_id]}\n",
    "        media = MediaFileUpload(file_path, resumable=True)\n",
    "        # pylint: disable=maybe-no-member\n",
    "        file = (service.files().create(body=file_metadata, media_body=media).execute())\n",
    "        print('File Uploaded successful')\n",
    "    except HttpError as error:\n",
    "        print(f\"An error occurred: {error}\")\n",
    "        file = None\n",
    "    return"
   ]
  },
  {
   "cell_type": "code",
   "execution_count": 6,
   "id": "5764be17-81c4-4544-9d99-66bcd8723947",
   "metadata": {},
   "outputs": [
    {
     "name": "stdout",
     "output_type": "stream",
     "text": [
      "Files:\n",
      "postflood (1YzCONDhWPK3IAcx7a7yjCCkElIUpWKer)\n",
      "preflood (1rfvJIJ2NlM3m8mDKq8FXMzrMTgOh6xSC)\n",
      "flood (1zS-Ecrbf01sBaM02yEVNJEWcYQRULtg2)\n",
      "input (1UHgLmijEZ_OS2NipJAcFB9--JYQX9aaX)\n",
      "output (1DQdjTy5aICTQUVLM4rHcNoS0kxZ6L6GD)\n",
      "Animated_timeseries.ipynb (1JoU_wHD__wmkm99_sd6NG3YLvdkY3_-W)\n",
      "dea (1GAQ4RSKt1s0Da6Uwm2ewv6-u7lYRwNil)\n"
     ]
    }
   ],
   "source": [
    "list_gdrive()"
   ]
  },
  {
   "cell_type": "code",
   "execution_count": 7,
   "id": "bd2d4a9e-2310-4365-aaee-458234996a0e",
   "metadata": {},
   "outputs": [
    {
     "name": "stdout",
     "output_type": "stream",
     "text": [
      "File Uploaded successful\n"
     ]
    }
   ],
   "source": [
    "upload_to_gdrive(\"README.md\")"
   ]
  },
  {
   "cell_type": "code",
   "execution_count": null,
   "id": "4daf2a1a-4fe5-471d-879c-c3d0b5462af5",
   "metadata": {},
   "outputs": [],
   "source": []
  }
 ],
 "metadata": {
  "kernelspec": {
   "display_name": "Python 3 (ipykernel)",
   "language": "python",
   "name": "python3"
  },
  "language_info": {
   "codemirror_mode": {
    "name": "ipython",
    "version": 3
   },
   "file_extension": ".py",
   "mimetype": "text/x-python",
   "name": "python",
   "nbconvert_exporter": "python",
   "pygments_lexer": "ipython3",
   "version": "3.10.12"
  }
 },
 "nbformat": 4,
 "nbformat_minor": 5
}
